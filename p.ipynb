{
 "cells": [
  {
   "cell_type": "code",
   "execution_count": 15,
   "id": "489b1325",
   "metadata": {},
   "outputs": [
    {
     "name": "stdout",
     "output_type": "stream",
     "text": [
      "it is smaller\n"
     ]
    }
   ],
   "source": [
    "num=int(input(\"enter a num\"))\n",
    "if num > 15:\n",
    "    print(\"it is greater\")\n",
    "elif num<15:\n",
    "    print(\"it is smaller\")\n",
    "else:\n",
    "    print(\"it is equal\")        "
   ]
  },
  {
   "cell_type": "code",
   "execution_count": null,
   "id": "aee7590b",
   "metadata": {},
   "outputs": [],
   "source": [
    " "
   ]
  }
 ],
 "metadata": {
  "kernelspec": {
   "display_name": "Python 3",
   "language": "python",
   "name": "python3"
  },
  "language_info": {
   "codemirror_mode": {
    "name": "ipython",
    "version": 3
   },
   "file_extension": ".py",
   "mimetype": "text/x-python",
   "name": "python",
   "nbconvert_exporter": "python",
   "pygments_lexer": "ipython3",
   "version": "3.12.5"
  }
 },
 "nbformat": 4,
 "nbformat_minor": 5
}
